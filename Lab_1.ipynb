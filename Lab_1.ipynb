{
  "nbformat": 4,
  "nbformat_minor": 0,
  "metadata": {
    "kernelspec": {
      "display_name": "Python 3",
      "language": "python",
      "name": "python3"
    },
    "language_info": {
      "codemirror_mode": {
        "name": "ipython",
        "version": 3
      },
      "file_extension": ".py",
      "mimetype": "text/x-python",
      "name": "python",
      "nbconvert_exporter": "python",
      "pygments_lexer": "ipython3",
      "version": "3.7.2"
    },
    "colab": {
      "name": "Lab 1.ipynb",
      "provenance": [],
      "collapsed_sections": [],
      "include_colab_link": true
    }
  },
  "cells": [
    {
      "cell_type": "markdown",
      "metadata": {
        "id": "view-in-github",
        "colab_type": "text"
      },
      "source": [
        "<a href=\"https://colab.research.google.com/github/JohnChen97/githubtest/blob/master/Lab_1.ipynb\" target=\"_parent\"><img src=\"https://colab.research.google.com/assets/colab-badge.svg\" alt=\"Open In Colab\"/></a>"
      ]
    },
    {
      "cell_type": "markdown",
      "metadata": {
        "id": "YVkkGy_9gayR",
        "colab_type": "text"
      },
      "source": [
        "<center><h2>Lab 1 - CMPUT 340</h2></center>\n",
        "<b>Due date:</b> September, 10 at 11:59 pm (submit on eClass). \n",
        "\n",
        "In this lab you will learn the basics of Python and Numpy. You should start by reading and executing the code snipets in the following <a href=\"https://colab.research.google.com/github/cs231n/cs231n.github.io/blob/master/python-colab.ipynb#scrollTo=0vJLt3JRL9eR\">Colab</a>, which was authored by Kevin Zakka, Justin Johnson, Volodymmyr Kuleshov, and Issac Caswell. \n",
        "\n",
        "Once you have finished reading and executing the Colab snipets, please read the snipets below and complete the code where needed. After solving the problems and executing your code, please export this Notebook as an html by clicking File -> Downdload as -> HTML (.html) and submit your file to eClass. "
      ]
    },
    {
      "cell_type": "markdown",
      "metadata": {
        "id": "HhVrDWrggayS",
        "colab_type": "text"
      },
      "source": [
        "The snipet below creates matrices, A and B, with shape 3, 2 and 2, 4, respectively. The values of the matrices are chosen at random from the interval [0, 1). "
      ]
    },
    {
      "cell_type": "code",
      "metadata": {
        "id": "pOzUAl_RgayS",
        "colab_type": "code",
        "colab": {
          "base_uri": "https://localhost:8080/",
          "height": 136
        },
        "outputId": "63c14bdd-9ea3-4e45-c2d7-698c787f8e7a"
      },
      "source": [
        "import numpy as np\n",
        "import time\n",
        "\n",
        "A = np.random.rand(3, 2)\n",
        "B = np.random.rand(2, 4)\n",
        "\n",
        "print('A: ')\n",
        "print(A)\n",
        "print('B: ')\n",
        "print(B)"
      ],
      "execution_count": 1,
      "outputs": [
        {
          "output_type": "stream",
          "text": [
            "A: \n",
            "[[0.18461583 0.3771752 ]\n",
            " [0.5180872  0.79104858]\n",
            " [0.03279902 0.87657031]]\n",
            "B: \n",
            "[[0.28707639 0.87888422 0.20980137 0.92872537]\n",
            " [0.62046884 0.55944616 0.17541445 0.48252342]]\n"
          ],
          "name": "stdout"
        }
      ]
    },
    {
      "cell_type": "markdown",
      "metadata": {
        "id": "gC3_GxqRgayV",
        "colab_type": "text"
      },
      "source": [
        "The following snipet will perform the multiplication of A and B using Numpy's standard implementation. "
      ]
    },
    {
      "cell_type": "code",
      "metadata": {
        "id": "KG24sW-zgayV",
        "colab_type": "code",
        "colab": {
          "base_uri": "https://localhost:8080/",
          "height": 102
        },
        "outputId": "2d8e7c95-ef11-47ae-ba14-d3d5ee666bbc"
      },
      "source": [
        "C = A.dot(B)\n",
        "print('C = A x B')\n",
        "print('C = ')\n",
        "print(C)"
      ],
      "execution_count": 2,
      "outputs": [
        {
          "output_type": "stream",
          "text": [
            "C = A x B\n",
            "C = \n",
            "[[0.28702431 0.37326516 0.10489463 0.35345327]\n",
            " [0.6395516  0.89788776 0.24745675 0.8628602 ]\n",
            " [0.55330038 0.51922043 0.16064437 0.45342698]]\n"
          ],
          "name": "stdout"
        }
      ]
    },
    {
      "cell_type": "markdown",
      "metadata": {
        "id": "ZVWEWysYgayY",
        "colab_type": "text"
      },
      "source": [
        "Finish the implemention of the function multiply_matrices below. \n",
        "\n",
        "Certify that the matrix returned by your function matches the result of the operation A.dot(B) from the cell above. "
      ]
    },
    {
      "cell_type": "code",
      "metadata": {
        "id": "B1xdKUyOgayY",
        "colab_type": "code",
        "colab": {
          "base_uri": "https://localhost:8080/",
          "height": 102
        },
        "outputId": "976fd5df-927b-4fc7-d849-6f56fe17c29a"
      },
      "source": [
        "def multiply_matrices(A, B):\n",
        "    C = np.zeros((A.shape[0], B.shape[1]))\n",
        "    for i in range(A.shape[0]):\n",
        "        \n",
        "        for j in range(B.shape[1]):\n",
        "            for k in range(B.shape[0]):\n",
        "                # write your code here,\n",
        "                C[i, j] = C[i, j] + A[i, k] * B[k, j]\n",
        "            \n",
        "    return C\n",
        "\n",
        "C = multiply_matrices(A, B)\n",
        "print('C = A x B')\n",
        "print('C = ')\n",
        "print(C)"
      ],
      "execution_count": 3,
      "outputs": [
        {
          "output_type": "stream",
          "text": [
            "C = A x B\n",
            "C = \n",
            "[[0.28702431 0.37326516 0.10489463 0.35345327]\n",
            " [0.6395516  0.89788776 0.24745675 0.8628602 ]\n",
            " [0.55330038 0.51922043 0.16064437 0.45342698]]\n"
          ],
          "name": "stdout"
        }
      ]
    },
    {
      "cell_type": "markdown",
      "metadata": {
        "id": "ofwuQk5cgaya",
        "colab_type": "text"
      },
      "source": [
        "Next, implement a function called <b>multiply_matrices_vectorized</b> that also receives matrices A and B as input and returns C = A x B. Similarly to function multiply_matrices, you can assume that the multiplication is possible for A and B. \n",
        "\n",
        "In contrast with function multiply_matrices, your implementation of multiply_matrices_vectorized should contain only two 'for' loops; the innermost 'for' should be replaced by a vectorized implementation where you will use slicing, the operator * for two vectors, and the function sum from Numpy."
      ]
    },
    {
      "cell_type": "code",
      "metadata": {
        "scrolled": false,
        "id": "Uo6dv1ZLgaya",
        "colab_type": "code",
        "colab": {
          "base_uri": "https://localhost:8080/",
          "height": 102
        },
        "outputId": "a474c30e-10d4-496d-8e2c-266508d0b823"
      },
      "source": [
        "def multiply_matrices_vectorized(A, B):\n",
        "    C = np.zeros((A.shape[0], B.shape[1]))\n",
        "    # implement here your vectorized solution\n",
        "    for i in range(A.shape[0]):\n",
        "      a = A[i, :]\n",
        "      for j in range(B.shape[1]):\n",
        "        b = B[:, j]\n",
        "        c = a * b\n",
        "        C[i, j] = sum(c)\n",
        "    return C\n",
        "\n",
        "C = multiply_matrices_vectorized(A, B)\n",
        "print('C = A x B')\n",
        "print('C = ')\n",
        "print(C)"
      ],
      "execution_count": 4,
      "outputs": [
        {
          "output_type": "stream",
          "text": [
            "C = A x B\n",
            "C = \n",
            "[[0.28702431 0.37326516 0.10489463 0.35345327]\n",
            " [0.6395516  0.89788776 0.24745675 0.8628602 ]\n",
            " [0.55330038 0.51922043 0.16064437 0.45342698]]\n"
          ],
          "name": "stdout"
        }
      ]
    },
    {
      "cell_type": "markdown",
      "metadata": {
        "id": "MPU5Ld1Igayc",
        "colab_type": "text"
      },
      "source": [
        "We will use the library 'time' to measure the start and end time of the multiplication. The difference between the end time and start time gives the total running time in seconds of the operation. The snipet below will compare the running time of the different implementations. "
      ]
    },
    {
      "cell_type": "code",
      "metadata": {
        "id": "-cb3fxBhgayd",
        "colab_type": "code",
        "colab": {
          "base_uri": "https://localhost:8080/",
          "height": 68
        },
        "outputId": "f0c366ec-3550-43e8-c0a5-33dbf0b5af4e"
      },
      "source": [
        "time_start = time.time()\n",
        "C = A.dot(B)\n",
        "time_end = time.time()\n",
        "print('Time function built-in function: %.6f seconds'% (time_end - time_start))\n",
        "\n",
        "time_start = time.time()\n",
        "C_ = multiply_matrices(A, B)\n",
        "time_end = time.time()\n",
        "print('Time function multiply_matrices: %.6f seconds'% (time_end - time_start))\n",
        "\n",
        "time_start = time.time()\n",
        "C__ = multiply_matrices_vectorized(A, B)\n",
        "time_end = time.time()\n",
        "print('Time function multiply_matrices_vectorized: %.6f seconds'% (time_end - time_start))"
      ],
      "execution_count": 5,
      "outputs": [
        {
          "output_type": "stream",
          "text": [
            "Time function built-in function: 0.000087 seconds\n",
            "Time function multiply_matrices: 0.000146 seconds\n",
            "Time function multiply_matrices_vectorized: 0.000474 seconds\n"
          ],
          "name": "stdout"
        }
      ]
    },
    {
      "cell_type": "markdown",
      "metadata": {
        "id": "FKNdithrgayf",
        "colab_type": "text"
      },
      "source": [
        "Let's increase the size of the matrices to better distinguish the different implementations. We will now use matrices of shape 300x200 and 200x400. \n",
        "\n",
        "The built-in implementation should be the fastest because it uses a better algorithm than our naïve implementation. We should also notice a major difference in running time between multiply_matrices and multiply_matrices_vectorized. This is due to the vectorization we performed in the latter. \n",
        "\n",
        "The operations with vectors and matrices offered by Numpy are much more efficient than our implementation with a for-loop. That is why, whenever possible, we will prefer to use vectorized implementations of the algorithms in this course. "
      ]
    },
    {
      "cell_type": "code",
      "metadata": {
        "id": "WQprL_GMgayf",
        "colab_type": "code",
        "colab": {
          "base_uri": "https://localhost:8080/",
          "height": 68
        },
        "outputId": "5f8fed3b-52e4-4764-d39a-0ddc057a06bb"
      },
      "source": [
        "A = np.random.rand(300, 200)\n",
        "B = np.random.rand(200, 400)\n",
        "\n",
        "time_start = time.time()\n",
        "C = A.dot(B)\n",
        "time_end = time.time()\n",
        "print('Time function built-in function: %.6f seconds'% (time_end - time_start))\n",
        "\n",
        "time_start = time.time()\n",
        "C = multiply_matrices(A, B)\n",
        "time_end = time.time()\n",
        "print('Time function multiply_matrices: %.6f seconds'% (time_end - time_start))\n",
        "\n",
        "time_start = time.time()\n",
        "C = multiply_matrices_vectorized(A, B)\n",
        "time_end = time.time()\n",
        "print('Time function multiply_matrices_vectorized: %.6f seconds'% (time_end - time_start))"
      ],
      "execution_count": 6,
      "outputs": [
        {
          "output_type": "stream",
          "text": [
            "Time function built-in function: 0.004225 seconds\n",
            "Time function multiply_matrices: 20.314602 seconds\n",
            "Time function multiply_matrices_vectorized: 4.779593 seconds\n"
          ],
          "name": "stdout"
        }
      ]
    },
    {
      "cell_type": "markdown",
      "metadata": {
        "id": "A8TLGzw9gayh",
        "colab_type": "text"
      },
      "source": [
        "The next snipet creates a set of squared matrices of different sizes. Finish the implementation so that we invoke multiply_matrices and multiply_matrices_vectorized on all pairs of matrices (i.e., we will compute matrices_A[i] * matrices_B[i] for all i). The running time of both functions for all pairs should be stored in the lists time_multiply_matrices and time_multiply_matrices_vectorized. \n",
        "\n",
        "Use matplotlib to plot the running time of the two functions for the set of pairs of matrices. The x-axis should be labelled 'Size of the Matrices' and the y-axis should be labelled 'Running Time (seconds)'. Plot one line for each list (time_multiply_matrices and time_multiply_matrices_vectorized). "
      ]
    },
    {
      "cell_type": "code",
      "metadata": {
        "id": "Vit5RgnOgayj",
        "colab_type": "code",
        "colab": {
          "base_uri": "https://localhost:8080/",
          "height": 482
        },
        "outputId": "843df151-4f0f-47a6-ece4-61cb9e56b98f"
      },
      "source": [
        "import matplotlib.pyplot as plt\n",
        "matrices_A = [np.random.rand(i, i) for i in range(1, 500, 100)]\n",
        "matrices_B = [np.random.rand(i, i) for i in range(1, 500, 100)]\n",
        "\n",
        "time_multiply_matrices = []\n",
        "time_multiply_matrices_vectorized = []\n",
        "size_A = []\n",
        "size_B = []\n",
        "# complete implementation\n",
        "start_time = time.time()\n",
        "\n",
        "for i in range(len(matrices_A)):\n",
        "  size_A.append(matrices_A[i].shape[0] * matrices_A[i].shape[1])\n",
        "  print(matrices_A[i].shape[0] * matrices_A[i].shape[1])\n",
        "  size_B.append(matrices_B[i].shape[0] * matrices_B[i].shape[1])\n",
        "  print(matrices_B[i].shape[0] * matrices_B[i].shape[1])\n",
        "  start_time = time.time()\n",
        "  C = multiply_matrices(matrices_A[i], matrices_B[i])\n",
        "  end_time = time.time()\n",
        "  time_multiply_matrices.append(end_time - start_time)\n",
        "  start_time = time.time()\n",
        "  C = multiply_matrices_vectorized(matrices_A[i], matrices_B[i])\n",
        "  end_time = time.time()\n",
        "  time_multiply_matrices_vectorized.append(end_time - start_time)\n",
        "plt.plot(size_A, time_multiply_matrices)\n",
        "plt.plot(size_B, time_multiply_matrices_vectorized)\n",
        "plt.xlabel('Size of the Matrices')\n",
        "plt.ylabel('Running Time (seconds)')\n",
        "plt.title('time_multiply_matrices and time_multiply_matrices_vectorized')\n",
        "plt.legend(['time_multiply_matrices', 'time_multiply_matrices_vectorized'])"
      ],
      "execution_count": 7,
      "outputs": [
        {
          "output_type": "stream",
          "text": [
            "1\n",
            "1\n",
            "10201\n",
            "10201\n",
            "40401\n",
            "40401\n",
            "90601\n",
            "90601\n",
            "160801\n",
            "160801\n"
          ],
          "name": "stdout"
        },
        {
          "output_type": "execute_result",
          "data": {
            "text/plain": [
              "<matplotlib.legend.Legend at 0x7f6f5a9fb0b8>"
            ]
          },
          "metadata": {
            "tags": []
          },
          "execution_count": 7
        },
        {
          "output_type": "display_data",
          "data": {
            "image/png": "[encoded data removed]",
            "text/plain": [
              "<Figure size 432x288 with 1 Axes>"
            ]
          },
          "metadata": {
            "tags": [],
            "needs_background": "light"
          }
        }
      ]
    },
    {
      "cell_type": "code",
      "metadata": {
        "id": "wf3ASnQSgayl",
        "colab_type": "code",
        "colab": {
          "base_uri": "https://localhost:8080/",
          "height": 312
        },
        "outputId": "c5da5c32-8ae3-47c5-f8a5-2357b7f72de0"
      },
      "source": [
        "import matplotlib.pyplot as plt\n",
        "\n",
        "plt.plot(time_multiply_matrices)\n",
        "plt.plot(time_multiply_matrices_vectorized)\n",
        "plt.xlabel('Matrices Size')\n",
        "plt.ylabel('Running Time (seconds)')\n",
        "plt.title('Vectorized vs. Non-Vectorized Matrix Multiplication')\n",
        "plt.legend(['Non-Vectorized', 'Vectorized'])"
      ],
      "execution_count": 8,
      "outputs": [
        {
          "output_type": "execute_result",
          "data": {
            "text/plain": [
              "<matplotlib.legend.Legend at 0x7f6f5a4c5898>"
            ]
          },
          "metadata": {
            "tags": []
          },
          "execution_count": 8
        },
        {
          "output_type": "display_data",
          "data": {
            "image/png": "[encoded data removed]",
            "text/plain": [
              "<Figure size 432x288 with 1 Axes>"
            ]
          },
          "metadata": {
            "tags": [],
            "needs_background": "light"
          }
        }
      ]
    }
  ]
}